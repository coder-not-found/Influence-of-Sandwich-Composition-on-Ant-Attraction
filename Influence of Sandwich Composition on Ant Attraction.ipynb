{
 "cells": [
  {
   "cell_type": "code",
   "execution_count": 58,
   "id": "023a1533",
   "metadata": {},
   "outputs": [],
   "source": [
    "import pandas as pd\n",
    "import numpy as np\n",
    "import matplotlib.pyplot as plt\n",
    "import seaborn as sns\n",
    "from statsmodels.formula.api import ols\n",
    "from statsmodels.stats.anova import anova_lm\n",
    "from statsmodels.stats.multicomp import pairwise_tukeyhsd"
   ]
  },
  {
   "cell_type": "code",
   "execution_count": 59,
   "id": "c99191ff",
   "metadata": {},
   "outputs": [],
   "source": [
    "# Load the data\n",
    "file_path = \"/Users/chaahatamesar/Desktop/Uni-Assist Documents/TU Dortmond/ant_sandwich_data.csv\"\n",
    "df = pd.read_csv(file_path)"
   ]
  },
  {
   "cell_type": "code",
   "execution_count": 60,
   "id": "ddff7ee9",
   "metadata": {},
   "outputs": [
    {
     "name": "stdout",
     "output_type": "stream",
     "text": [
      "DataFrame Info:\n",
      "<class 'pandas.core.frame.DataFrame'>\n",
      "RangeIndex: 48 entries, 0 to 47\n",
      "Data columns (total 4 columns):\n",
      " #   Column    Non-Null Count  Dtype \n",
      "---  ------    --------------  ----- \n",
      " 0   antCount  48 non-null     int64 \n",
      " 1   bread     48 non-null     object\n",
      " 2   topping   48 non-null     object\n",
      " 3   butter    48 non-null     object\n",
      "dtypes: int64(1), object(3)\n",
      "memory usage: 1.6+ KB\n",
      "None\n"
     ]
    }
   ],
   "source": [
    "# Display basic information about the dataframe\n",
    "print(\"DataFrame Info:\")\n",
    "print(df.info())\n"
   ]
  },
  {
   "cell_type": "code",
   "execution_count": 61,
   "id": "47eb793f",
   "metadata": {},
   "outputs": [
    {
     "name": "stdout",
     "output_type": "stream",
     "text": [
      "\n",
      "DataFrame Head:\n"
     ]
    },
    {
     "data": {
      "text/html": [
       "<div>\n",
       "<style scoped>\n",
       "    .dataframe tbody tr th:only-of-type {\n",
       "        vertical-align: middle;\n",
       "    }\n",
       "\n",
       "    .dataframe tbody tr th {\n",
       "        vertical-align: top;\n",
       "    }\n",
       "\n",
       "    .dataframe thead th {\n",
       "        text-align: right;\n",
       "    }\n",
       "</style>\n",
       "<table border=\"1\" class=\"dataframe\">\n",
       "  <thead>\n",
       "    <tr style=\"text-align: right;\">\n",
       "      <th></th>\n",
       "      <th>antCount</th>\n",
       "      <th>bread</th>\n",
       "      <th>topping</th>\n",
       "      <th>butter</th>\n",
       "    </tr>\n",
       "  </thead>\n",
       "  <tbody>\n",
       "    <tr>\n",
       "      <th>0</th>\n",
       "      <td>34</td>\n",
       "      <td>Rye</td>\n",
       "      <td>Ham and gherkins</td>\n",
       "      <td>no</td>\n",
       "    </tr>\n",
       "    <tr>\n",
       "      <th>1</th>\n",
       "      <td>47</td>\n",
       "      <td>Multi Grain</td>\n",
       "      <td>Peanut butter</td>\n",
       "      <td>yes</td>\n",
       "    </tr>\n",
       "    <tr>\n",
       "      <th>2</th>\n",
       "      <td>67</td>\n",
       "      <td>White</td>\n",
       "      <td>Ham and gherkins</td>\n",
       "      <td>yes</td>\n",
       "    </tr>\n",
       "    <tr>\n",
       "      <th>3</th>\n",
       "      <td>63</td>\n",
       "      <td>Multi Grain</td>\n",
       "      <td>Ham and gherkins</td>\n",
       "      <td>yes</td>\n",
       "    </tr>\n",
       "    <tr>\n",
       "      <th>4</th>\n",
       "      <td>65</td>\n",
       "      <td>Rye</td>\n",
       "      <td>Ham and gherkins</td>\n",
       "      <td>no</td>\n",
       "    </tr>\n",
       "  </tbody>\n",
       "</table>\n",
       "</div>"
      ],
      "text/plain": [
       "   antCount        bread           topping butter\n",
       "0        34          Rye  Ham and gherkins     no\n",
       "1        47  Multi Grain     Peanut butter    yes\n",
       "2        67        White  Ham and gherkins    yes\n",
       "3        63  Multi Grain  Ham and gherkins    yes\n",
       "4        65          Rye  Ham and gherkins     no"
      ]
     },
     "execution_count": 61,
     "metadata": {},
     "output_type": "execute_result"
    },
    {
     "data": {
      "text/plain": [
       "<Figure size 432x288 with 0 Axes>"
      ]
     },
     "metadata": {},
     "output_type": "display_data"
    }
   ],
   "source": [
    "# Display the first few rows of the dataframe\n",
    "print(\"\\nDataFrame Head:\")\n",
    "plt.savefig('df_head.png')\n",
    "(df.head())"
   ]
  },
  {
   "cell_type": "code",
   "execution_count": 62,
   "id": "e5fbe11b",
   "metadata": {},
   "outputs": [
    {
     "name": "stdout",
     "output_type": "stream",
     "text": [
      "\n",
      "Descriptive Statistics for antCount:\n"
     ]
    },
    {
     "data": {
      "text/plain": [
       "count    48.000000\n",
       "mean     43.500000\n",
       "std      15.148906\n",
       "min      18.000000\n",
       "25%      30.500000\n",
       "50%      43.000000\n",
       "75%      57.000000\n",
       "max      76.000000\n",
       "Name: antCount, dtype: float64"
      ]
     },
     "execution_count": 62,
     "metadata": {},
     "output_type": "execute_result"
    }
   ],
   "source": [
    "# Display descriptive statistics for 'antCount'\n",
    "print(\"\\nDescriptive Statistics for antCount:\")\n",
    "(df['antCount'].describe())"
   ]
  },
  {
   "cell_type": "code",
   "execution_count": null,
   "id": "cf9bb3d5",
   "metadata": {},
   "outputs": [],
   "source": []
  },
  {
   "cell_type": "code",
   "execution_count": 63,
   "id": "b860c880",
   "metadata": {},
   "outputs": [],
   "source": [
    "# Perform descriptive analysis - group by factors and calculate mean, median, std\n",
    "desc_bread = df.groupby('bread')['antCount'].agg(['mean', 'median', 'std']).sort_values(by='mean', ascending=False)\n",
    "desc_topping = df.groupby('topping')['antCount'].agg(['mean', 'median', 'std']).sort_values(by='mean', ascending=False)\n",
    "desc_butter = df.groupby('butter')['antCount'].agg(['mean', 'median', 'std']).sort_values(by='mean', ascending=False)"
   ]
  },
  {
   "cell_type": "code",
   "execution_count": 64,
   "id": "7598c5ff",
   "metadata": {},
   "outputs": [
    {
     "name": "stdout",
     "output_type": "stream",
     "text": [
      "\n",
      "Descriptive Statistics by Bread Type:\n",
      "              mean  median        std\n",
      "bread                                \n",
      "Whole Grain  44.50    48.0  14.606972\n",
      "Rye          44.25    42.0  13.396913\n",
      "Multi Grain  43.00    40.0  18.230843\n",
      "White        42.25    44.5  15.863767\n",
      "\n",
      "Descriptive Statistics by Topping:\n",
      "                    mean  median        std\n",
      "topping                                    \n",
      "Ham and gherkins  55.500    58.5  12.055428\n",
      "Peanut butter     40.375    44.5  14.183911\n",
      "Yeast spread      34.625    34.5  11.158704\n",
      "\n",
      "Descriptive Statistics by Butter:\n",
      "          mean  median        std\n",
      "butter                           \n",
      "yes     48.875    49.0  14.513300\n",
      "no      38.125    37.0  14.072213\n"
     ]
    }
   ],
   "source": [
    "print(\"\\nDescriptive Statistics by Bread Type:\")\n",
    "print(desc_bread)\n",
    "print(\"\\nDescriptive Statistics by Topping:\")\n",
    "print(desc_topping)\n",
    "print(\"\\nDescriptive Statistics by Butter:\")\n",
    "print(desc_butter)"
   ]
  },
  {
   "cell_type": "code",
   "execution_count": 65,
   "id": "7d7614b7",
   "metadata": {},
   "outputs": [
    {
     "data": {
      "image/png": "[encoded data removed]",
      "text/plain": [
       "<Figure size 720x432 with 1 Axes>"
      ]
     },
     "metadata": {
      "needs_background": "light"
     },
     "output_type": "display_data"
    }
   ],
   "source": [
    "# Generate plots for descriptive analysis\n",
    "# Bar plot for Bread Type\n",
    "plt.figure(figsize=(10, 6))\n",
    "sns.barplot(x='bread', y='antCount', data=df, estimator=np.mean, ci=95, palette='viridis', order=desc_bread.index)\n",
    "plt.title('Mean Ant Count by Bread Type with 95% Confidence Interval')\n",
    "plt.xlabel('Bread Type')\n",
    "plt.ylabel('Mean Ant Count')\n",
    "plt.xticks(rotation=45, ha='right')\n",
    "plt.tight_layout()\n",
    "plt.savefig('mean_ant_count_by_bread_type.png')\n",
    "plt.show()\n",
    "plt.close()"
   ]
  },
  {
   "cell_type": "code",
   "execution_count": 66,
   "id": "88686811",
   "metadata": {},
   "outputs": [
    {
     "data": {
      "image/png": "[encoded data removed]",
      "text/plain": [
       "<Figure size 720x432 with 1 Axes>"
      ]
     },
     "metadata": {
      "needs_background": "light"
     },
     "output_type": "display_data"
    }
   ],
   "source": [
    "# Bar plot for Topping\n",
    "plt.figure(figsize=(10, 6))\n",
    "sns.barplot(x='topping', y='antCount', data=df, estimator=np.mean, ci=95, palette='plasma', order=desc_topping.index)\n",
    "plt.title('Mean Ant Count by Topping with 95% Confidence Interval')\n",
    "plt.xlabel('Topping')\n",
    "plt.ylabel('Mean Ant Count')\n",
    "plt.xticks(rotation=45, ha='right')\n",
    "plt.tight_layout()\n",
    "plt.savefig('mean_ant_count_by_topping.png')\n",
    "plt.show()\n",
    "plt.close()"
   ]
  },
  {
   "cell_type": "code",
   "execution_count": 67,
   "id": "849dd66e",
   "metadata": {},
   "outputs": [
    {
     "data": {
      "image/png": "[encoded data removed]",
      "text/plain": [
       "<Figure size 576x360 with 1 Axes>"
      ]
     },
     "metadata": {
      "needs_background": "light"
     },
     "output_type": "display_data"
    }
   ],
   "source": [
    "# Bar plot for Butter\n",
    "plt.figure(figsize=(8, 5))\n",
    "sns.barplot(x='butter', y='antCount', data=df, estimator=np.mean, ci=95, palette='cividis', order=desc_butter.index)\n",
    "plt.title('Mean Ant Count by Butter Presence with 95% Confidence Interval')\n",
    "plt.xlabel('Butter')\n",
    "plt.ylabel('Mean Ant Count')\n",
    "plt.tight_layout()\n",
    "plt.savefig('mean_ant_count_by_butter.png')\n",
    "plt.show()\n",
    "plt.close()"
   ]
  },
  {
   "cell_type": "code",
   "execution_count": 68,
   "id": "54cf603c",
   "metadata": {},
   "outputs": [
    {
     "name": "stdout",
     "output_type": "stream",
     "text": [
      "\n",
      "ANOVA Table:\n"
     ]
    },
    {
     "data": {
      "text/html": [
       "<div>\n",
       "<style scoped>\n",
       "    .dataframe tbody tr th:only-of-type {\n",
       "        vertical-align: middle;\n",
       "    }\n",
       "\n",
       "    .dataframe tbody tr th {\n",
       "        vertical-align: top;\n",
       "    }\n",
       "\n",
       "    .dataframe thead th {\n",
       "        text-align: right;\n",
       "    }\n",
       "</style>\n",
       "<table border=\"1\" class=\"dataframe\">\n",
       "  <thead>\n",
       "    <tr style=\"text-align: right;\">\n",
       "      <th></th>\n",
       "      <th>sum_sq</th>\n",
       "      <th>df</th>\n",
       "      <th>F</th>\n",
       "      <th>PR(&gt;F)</th>\n",
       "    </tr>\n",
       "  </thead>\n",
       "  <tbody>\n",
       "    <tr>\n",
       "      <th>C(bread)</th>\n",
       "      <td>40.50</td>\n",
       "      <td>3.0</td>\n",
       "      <td>0.142043</td>\n",
       "      <td>0.933761</td>\n",
       "    </tr>\n",
       "    <tr>\n",
       "      <th>C(topping)</th>\n",
       "      <td>3720.50</td>\n",
       "      <td>2.0</td>\n",
       "      <td>19.572994</td>\n",
       "      <td>0.000009</td>\n",
       "    </tr>\n",
       "    <tr>\n",
       "      <th>C(butter)</th>\n",
       "      <td>1386.75</td>\n",
       "      <td>1.0</td>\n",
       "      <td>14.590969</td>\n",
       "      <td>0.000830</td>\n",
       "    </tr>\n",
       "    <tr>\n",
       "      <th>C(bread):C(topping)</th>\n",
       "      <td>577.00</td>\n",
       "      <td>6.0</td>\n",
       "      <td>1.011837</td>\n",
       "      <td>0.440987</td>\n",
       "    </tr>\n",
       "    <tr>\n",
       "      <th>C(bread):C(butter)</th>\n",
       "      <td>378.75</td>\n",
       "      <td>3.0</td>\n",
       "      <td>1.328365</td>\n",
       "      <td>0.288413</td>\n",
       "    </tr>\n",
       "    <tr>\n",
       "      <th>C(topping):C(butter)</th>\n",
       "      <td>56.00</td>\n",
       "      <td>2.0</td>\n",
       "      <td>0.294608</td>\n",
       "      <td>0.747479</td>\n",
       "    </tr>\n",
       "    <tr>\n",
       "      <th>C(bread):C(topping):C(butter)</th>\n",
       "      <td>2345.50</td>\n",
       "      <td>6.0</td>\n",
       "      <td>4.113108</td>\n",
       "      <td>0.005597</td>\n",
       "    </tr>\n",
       "    <tr>\n",
       "      <th>Residual</th>\n",
       "      <td>2281.00</td>\n",
       "      <td>24.0</td>\n",
       "      <td>NaN</td>\n",
       "      <td>NaN</td>\n",
       "    </tr>\n",
       "  </tbody>\n",
       "</table>\n",
       "</div>"
      ],
      "text/plain": [
       "                                sum_sq    df          F    PR(>F)\n",
       "C(bread)                         40.50   3.0   0.142043  0.933761\n",
       "C(topping)                     3720.50   2.0  19.572994  0.000009\n",
       "C(butter)                      1386.75   1.0  14.590969  0.000830\n",
       "C(bread):C(topping)             577.00   6.0   1.011837  0.440987\n",
       "C(bread):C(butter)              378.75   3.0   1.328365  0.288413\n",
       "C(topping):C(butter)             56.00   2.0   0.294608  0.747479\n",
       "C(bread):C(topping):C(butter)  2345.50   6.0   4.113108  0.005597\n",
       "Residual                       2281.00  24.0        NaN       NaN"
      ]
     },
     "execution_count": 68,
     "metadata": {},
     "output_type": "execute_result"
    }
   ],
   "source": [
    "# Perform Three-Way ANOVA\n",
    "# The formula specifies the dependent variable ('antCount') and independent variables ('bread', 'topping', 'butter')\n",
    "# and their interactions.\n",
    "model = ols('antCount ~ C(bread) + C(topping) + C(butter) + \\\n",
    "             C(bread):C(topping) + C(bread):C(butter) + \\\n",
    "             C(topping):C(butter) + C(bread):C(topping):C(butter)', data=df).fit()\n",
    "anova_table = anova_lm(model, typ=2) # Type 2 sum of squares suitable for unbalanced designs, if any.\n",
    "print(\"\\nANOVA Table:\")\n",
    "(anova_table)"
   ]
  },
  {
   "cell_type": "code",
   "execution_count": 69,
   "id": "eded2989",
   "metadata": {},
   "outputs": [
    {
     "name": "stdout",
     "output_type": "stream",
     "text": [
      "\n",
      "Tukey's HSD Post-hoc Test for Bread Type:\n",
      "     Multiple Comparison of Means - Tukey HSD, FWER=0.05      \n",
      "==============================================================\n",
      "   group1      group2   meandiff p-adj  lower    upper  reject\n",
      "--------------------------------------------------------------\n",
      "Multi Grain         Rye     1.25   0.9 -15.7854 18.2854  False\n",
      "Multi Grain       White    -0.75   0.9 -17.7854 16.2854  False\n",
      "Multi Grain Whole Grain      1.5   0.9 -15.5354 18.5354  False\n",
      "        Rye       White     -2.0   0.9 -19.0354 15.0354  False\n",
      "        Rye Whole Grain     0.25   0.9 -16.7854 17.2854  False\n",
      "      White Whole Grain     2.25   0.9 -14.7854 19.2854  False\n",
      "--------------------------------------------------------------\n"
     ]
    }
   ],
   "source": [
    "# Perform Post-hoc tests (Tukey's HSD) if main effects are significant\n",
    "# For Bread_Type\n",
    "tukey_bread = pairwise_tukeyhsd(endog=df['antCount'], groups=df['bread'], alpha=0.05)\n",
    "print(\"\\nTukey's HSD Post-hoc Test for Bread Type:\")\n",
    "print(tukey_bread)"
   ]
  },
  {
   "cell_type": "code",
   "execution_count": 70,
   "id": "0e3bea51",
   "metadata": {},
   "outputs": [
    {
     "name": "stdout",
     "output_type": "stream",
     "text": [
      "\n",
      "Tukey's HSD Post-hoc Test for Topping:\n",
      "          Multiple Comparison of Means - Tukey HSD, FWER=0.05          \n",
      "=======================================================================\n",
      "     group1          group2    meandiff p-adj   lower    upper   reject\n",
      "-----------------------------------------------------------------------\n",
      "Ham and gherkins Peanut butter  -15.125 0.0038 -25.8618  -4.3882   True\n",
      "Ham and gherkins  Yeast spread  -20.875  0.001 -31.6118 -10.1382   True\n",
      "   Peanut butter  Yeast spread    -5.75 0.4053 -16.4868   4.9868  False\n",
      "-----------------------------------------------------------------------\n"
     ]
    }
   ],
   "source": [
    "# For Topping\n",
    "tukey_topping = pairwise_tukeyhsd(endog=df['antCount'], groups=df['topping'], alpha=0.05)\n",
    "print(\"\\nTukey's HSD Post-hoc Test for Topping:\")\n",
    "print(tukey_topping)\n"
   ]
  },
  {
   "cell_type": "code",
   "execution_count": null,
   "id": "0fcc3a7c",
   "metadata": {},
   "outputs": [],
   "source": []
  }
 ],
 "metadata": {
  "kernelspec": {
   "display_name": "Python 3 (ipykernel)",
   "language": "python",
   "name": "python3"
  },
  "language_info": {
   "codemirror_mode": {
    "name": "ipython",
    "version": 3
   },
   "file_extension": ".py",
   "mimetype": "text/x-python",
   "name": "python",
   "nbconvert_exporter": "python",
   "pygments_lexer": "ipython3",
   "version": "3.9.7"
  }
 },
 "nbformat": 4,
 "nbformat_minor": 5
}
